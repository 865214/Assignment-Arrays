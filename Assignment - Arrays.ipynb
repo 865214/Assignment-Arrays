{
 "cells": [
  {
   "cell_type": "markdown",
   "id": "9d3cb19f-653e-4105-ac4f-655d0bad76f7",
   "metadata": {},
   "source": [
    "1. Given an array, check if it contains any duplicates or not.\n",
    "arr = [1, 2, 4, 2, 5, 9]"
   ]
  },
  {
   "cell_type": "code",
   "execution_count": 79,
   "id": "125f6202-d5e8-4b15-abab-e501fd3845b0",
   "metadata": {},
   "outputs": [
    {
     "data": {
      "text/plain": [
       "True"
      ]
     },
     "execution_count": 79,
     "metadata": {},
     "output_type": "execute_result"
    }
   ],
   "source": [
    "def findduplicates(arr):\n",
    "    for i in arr:\n",
    "        n = arr.count(i)\n",
    "        if n > 1:\n",
    "            return True\n",
    "    return False\n",
    "    \n",
    "            \n",
    "arr = [1, 2, 4, 2, 5, 9]\n",
    "findduplicates(arr)"
   ]
  },
  {
   "cell_type": "markdown",
   "id": "650c782c-a999-427c-9c83-5f15997919a0",
   "metadata": {},
   "source": [
    "1. We have created a function called findduplicates.\n",
    "2. In these function they are taking arguments as array\n",
    "3. Inside the function we are using for loop in array and counts the number of elements inside the array\n",
    "4. We are using the conditional statement if count of element is greater which is duplicate then return True other wise return false\n",
    "5. In these case we are not using any other data structure to solve these particular problem so the space complexity will constant i.e O(1)\n",
    "6. We are using the one for loop to solve these problem so the time complexity will be O(n)"
   ]
  },
  {
   "cell_type": "markdown",
   "id": "161f4592-18f9-4c02-b015-d19dfe411215",
   "metadata": {},
   "source": [
    "2. Given an array and an integer k, rotate the array to the right by k steps.\n",
    "arr = [1, 2, 3, 4, 5, 6, 7] k = 3\n",
    "Output = [5, 6, 7, 1, 2, 3, 4]"
   ]
  },
  {
   "cell_type": "code",
   "execution_count": 107,
   "id": "76e715b3-9e8c-49e7-b159-448192ce8f53",
   "metadata": {},
   "outputs": [
    {
     "name": "stdout",
     "output_type": "stream",
     "text": [
      "[5, 6, 7, 1, 2, 3, 4]\n"
     ]
    }
   ],
   "source": [
    "def rotation(arr, k):\n",
    "    for i in range(k):\n",
    "        rotating_list = arr[k+1: :] + arr[0:k+1]\n",
    "    return rotating_list\n",
    "\n",
    "arr = [1, 2, 3, 4, 5, 6, 7]\n",
    "k = 3\n",
    "result = rotation(arr, k)\n",
    "print(result)\n",
    "    "
   ]
  },
  {
   "cell_type": "markdown",
   "id": "95e75746-8d37-4805-8677-c51ee48f4ea5",
   "metadata": {},
   "source": [
    "1. We have created a function called rotation.\n",
    "2. In these function they are taking arguments as array and index number at which we want to rotate the array \n",
    "3. Inside the function we are using for loop in range of K and rotate the element inside the rotating list using slicing and return rotating list\n",
    "4. In these case we are using other data structure to solve these particular problem so the space complexity will constant i.e O(n)\n",
    "5. We are using the one for loop to solve these problem so the time complexity will be O(n)"
   ]
  },
  {
   "cell_type": "markdown",
   "id": "9cba24af-df24-463b-b4cf-46ef142cd4a2",
   "metadata": {},
   "source": [
    "3. Reverse the given array in-place, means without using any extra data structure.\n",
    "arr = [2, 4, 5, 7, 9, 12]\n",
    "Output = [12, 9, 7, 5, 4, 2]"
   ]
  },
  {
   "cell_type": "code",
   "execution_count": 108,
   "id": "7acf3c46-be58-4f0d-8dae-51b6c4e4e75b",
   "metadata": {},
   "outputs": [
    {
     "name": "stdout",
     "output_type": "stream",
     "text": [
      "[12, 9, 7, 5, 4, 2]\n"
     ]
    }
   ],
   "source": [
    "def reverse_list(arr):\n",
    "    return arr[::-1]\n",
    "\n",
    "arr = [2, 4, 5, 7, 9, 12]\n",
    "result = reverse_list(arr)\n",
    "print(result)"
   ]
  },
  {
   "cell_type": "markdown",
   "id": "3aa7eb00-d043-474e-8964-fc046174b10d",
   "metadata": {},
   "source": [
    "1. We have created a function called reverse_list.\n",
    "2. In these function they are taking arguments as array\n",
    "3. Inside the function we are indexing method to reverse the string.\n",
    "5. In these case we are not using any other data structure to solve these particular problem so the space complexity will be constant i.e O(1)\n",
    "6. We are not using the for loop and while loop to solve these problem so the time complexity will be O(n)"
   ]
  },
  {
   "cell_type": "markdown",
   "id": "1302c8ae-b8a2-4e0e-9967-6a25241287e0",
   "metadata": {},
   "source": [
    "4. Given an array of integers, find the maximum element in an array\n",
    "arr = [10, 5, 20, 8, 15]\n",
    "Output = 20"
   ]
  },
  {
   "cell_type": "code",
   "execution_count": 109,
   "id": "c5e42e73-34b8-46c2-863b-46e542c9a1fd",
   "metadata": {},
   "outputs": [
    {
     "name": "stdout",
     "output_type": "stream",
     "text": [
      "20\n"
     ]
    }
   ],
   "source": [
    "def maximum_element(arr):\n",
    "    maximum_num = 0\n",
    "    for i in arr:\n",
    "        if i > maximum_num:\n",
    "            maximum_num = i\n",
    "    return maximum_num\n",
    "\n",
    "arr = [10, 5, 20, 8, 15]\n",
    "result = maximum_element(arr)\n",
    "print(result)"
   ]
  },
  {
   "cell_type": "markdown",
   "id": "bad776a3-5eed-4b94-8a2f-8e2b5b64bacf",
   "metadata": {},
   "source": [
    "1. We have created a function called reverse_list.\n",
    "2. In these function they are taking arguments as array\n",
    "3. Inside the function we are using for loop in array.\n",
    "4. By using the conditional statement if any number is greater than the maximum_number then  \n",
    "5. In these case we are not using any other data structure to solve these particular problem so the space complexity will be constant i.e O(1)\n",
    "6. We are not using the for loop and while loop to solve these problem so the time complexity will be O(n)"
   ]
  },
  {
   "cell_type": "markdown",
   "id": "3f8bfb28-59ad-4df4-b0ec-e110de37f9a0",
   "metadata": {},
   "source": [
    "5. Given a sorted array, remove the duplicate element without using any extra data structure.\n",
    "arr = [1, 1, 2, 2, 2, 3, 3, 4, 4, 4, 5, 5]\n",
    "Output = [1, 2, 3, 4, 5]"
   ]
  },
  {
   "cell_type": "code",
   "execution_count": 1,
   "id": "98a6636b-380d-41b8-a19f-77ca081dd450",
   "metadata": {},
   "outputs": [
    {
     "name": "stdout",
     "output_type": "stream",
     "text": [
      "[1, 2, 3, 4, 5]\n"
     ]
    }
   ],
   "source": [
    "def remove_duplicates(arr):\n",
    "    if not arr:\n",
    "        return []\n",
    "    unique_index = 0\n",
    "    for i in range(1, len(arr)):\n",
    "        if arr[i] != arr[unique_index]:\n",
    "            unique_index += 1\n",
    "            arr[unique_index] = arr[i]\n",
    "\n",
    "    return arr[:unique_index + 1]\n",
    "\n",
    "arr = [1, 1, 2, 2, 2, 3, 3, 4, 4, 4, 5, 5]\n",
    "result = remove_duplicates(arr)\n",
    "print(result)"
   ]
  },
  {
   "cell_type": "markdown",
   "id": "7f869c2f-1911-4a6e-9808-f09955c50183",
   "metadata": {},
   "source": [
    "1. We have created a function called remove_dupliatex.\n",
    "2. In these function they are taking arguments as array\n",
    "3. Inside the function we are using for loop in array.\n",
    "4. By using the conditional statement if any number is not in array greater then return empty list\n",
    "5. Create a unique_index variable which is set them as 0 and by using the for loop if any index of list is not equal to unique_index then the element will be remain as it is\n",
    "6. In these case we are not using any other data structure to solve these particular problem so the space complexity will be constant i.e O(1)\n",
    "7. We are not using the for loop and while loop to solve these problem so the time complexity will be O(n)"
   ]
  },
  {
   "cell_type": "code",
   "execution_count": null,
   "id": "a0050d0f-4b3a-4fc3-93e7-6a3986f50c88",
   "metadata": {},
   "outputs": [],
   "source": []
  }
 ],
 "metadata": {
  "kernelspec": {
   "display_name": "Python 3 (ipykernel)",
   "language": "python",
   "name": "python3"
  },
  "language_info": {
   "codemirror_mode": {
    "name": "ipython",
    "version": 3
   },
   "file_extension": ".py",
   "mimetype": "text/x-python",
   "name": "python",
   "nbconvert_exporter": "python",
   "pygments_lexer": "ipython3",
   "version": "3.10.8"
  }
 },
 "nbformat": 4,
 "nbformat_minor": 5
}
